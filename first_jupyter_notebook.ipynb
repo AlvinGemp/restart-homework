{
 "cells": [
  {
   "cell_type": "code",
   "execution_count": 2,
   "metadata": {},
   "outputs": [
    {
     "name": "stdout",
     "output_type": "stream",
     "text": [
      "3\n"
     ]
    }
   ],
   "source": [
    "i = 3\n",
    "print(i)\n",
    "\n"
   ]
  },
  {
   "cell_type": "code",
   "execution_count": 3,
   "metadata": {},
   "outputs": [
    {
     "name": "stdout",
     "output_type": "stream",
     "text": [
      "Hello World\n"
     ]
    }
   ],
   "source": [
    "j = \"Hello World\"\n",
    "print(j)"
   ]
  },
  {
   "cell_type": "code",
   "execution_count": 1,
   "metadata": {},
   "outputs": [
    {
     "data": {
      "text/plain": [
       "'alvin'"
      ]
     },
     "execution_count": 1,
     "metadata": {},
     "output_type": "execute_result"
    }
   ],
   "source": [
    "k = input(\"What is your name?\")\n",
    "k"
   ]
  },
  {
   "cell_type": "code",
   "execution_count": 2,
   "metadata": {},
   "outputs": [
    {
     "data": {
      "text/plain": [
       "True"
      ]
     },
     "execution_count": 2,
     "metadata": {},
     "output_type": "execute_result"
    }
   ],
   "source": [
    "my_boolean = True\n",
    "my_boolean"
   ]
  },
  {
   "cell_type": "code",
   "execution_count": 5,
   "metadata": {},
   "outputs": [
    {
     "data": {
      "text/plain": [
       "float"
      ]
     },
     "execution_count": 5,
     "metadata": {},
     "output_type": "execute_result"
    }
   ],
   "source": [
    "type(True)\n",
    "type(\"hello\")\n",
    "type(1.5)"
   ]
  },
  {
   "cell_type": "code",
   "execution_count": 8,
   "metadata": {},
   "outputs": [
    {
     "data": {
      "text/plain": [
       "'THIS IS A STRING'"
      ]
     },
     "execution_count": 8,
     "metadata": {},
     "output_type": "execute_result"
    }
   ],
   "source": [
    "s = \"this is a string\"\n",
    "s = s.upper()\n",
    "s"
   ]
  },
  {
   "cell_type": "code",
   "execution_count": 11,
   "metadata": {},
   "outputs": [
    {
     "data": {
      "text/plain": [
       "'this is a string'"
      ]
     },
     "execution_count": 11,
     "metadata": {},
     "output_type": "execute_result"
    }
   ],
   "source": [
    "s = \"This is a String\"\n",
    "s = s.lower()\n",
    "s"
   ]
  },
  {
   "cell_type": "code",
   "execution_count": 16,
   "metadata": {},
   "outputs": [
    {
     "data": {
      "text/plain": [
       "5.1"
      ]
     },
     "execution_count": 16,
     "metadata": {},
     "output_type": "execute_result"
    }
   ],
   "source": [
    "l = [\"alvin\", \"egg\", 1, 5.1]\n",
    "l[-1]"
   ]
  },
  {
   "cell_type": "code",
   "execution_count": 17,
   "metadata": {},
   "outputs": [
    {
     "data": {
      "text/plain": [
       "4"
      ]
     },
     "execution_count": 17,
     "metadata": {},
     "output_type": "execute_result"
    }
   ],
   "source": [
    "len(l)"
   ]
  },
  {
   "cell_type": "code",
   "execution_count": 23,
   "metadata": {},
   "outputs": [
    {
     "name": "stdout",
     "output_type": "stream",
     "text": [
      "[True]\n",
      "[True, 'this is a string']\n",
      "[19, True, 'this is a string']\n",
      "[19, True]\n",
      "[True]\n"
     ]
    }
   ],
   "source": [
    "new_list = [True]\n",
    "print(new_list)\n",
    "new_list.append(\"this is a string\")\n",
    "print(new_list)\n",
    "new_list.insert(0,19)\n",
    "print(new_list)\n",
    "new_list.pop()\n",
    "print(new_list)\n",
    "new_list.pop(0)\n",
    "print(new_list)"
   ]
  },
  {
   "cell_type": "code",
   "execution_count": 27,
   "metadata": {},
   "outputs": [
    {
     "data": {
      "text/plain": [
       "[5, 4, 3, 2, 1, 0]"
      ]
     },
     "execution_count": 27,
     "metadata": {},
     "output_type": "execute_result"
    }
   ],
   "source": [
    "numbered_list = [0, 5, 4, 1, 3, 2]\n",
    "numbered_list.sort(reverse=True)\n",
    "numbered_list"
   ]
  },
  {
   "cell_type": "code",
   "execution_count": 28,
   "metadata": {},
   "outputs": [
    {
     "name": "stdout",
     "output_type": "stream",
     "text": [
      "[0, 1, 2, 3, 4, 5]\n",
      "[0, 5, 4, 1, 3, 2]\n"
     ]
    }
   ],
   "source": [
    "numbered_list = [0, 5, 4, 1, 3, 2]\n",
    "print(sorted(numbered_list))\n",
    "print(numbered_list)"
   ]
  },
  {
   "cell_type": "code",
   "execution_count": 30,
   "metadata": {},
   "outputs": [
    {
     "name": "stdout",
     "output_type": "stream",
     "text": [
      "['Bucks', 'Lakers', 'magic', 'spurs', 'thunder', 'warriors']\n"
     ]
    }
   ],
   "source": [
    "list_of_nba_teams = [\"thunder\", \"spurs\", \"magic\", \"warriors\", \"Lakers\", \"Bucks\"]\n",
    "print(sorted(list_of_nba_teams))"
   ]
  },
  {
   "cell_type": "code",
   "execution_count": 34,
   "metadata": {},
   "outputs": [
    {
     "name": "stdout",
     "output_type": "stream",
     "text": [
      "5\n",
      "In a year you will be 51\n"
     ]
    }
   ],
   "source": [
    "print(int(5))\n",
    "some_input = input(\"How old are you?\") #this will return a string\n",
    "some_input = int(some_input) + 1 # we have to cast it to integer\n",
    "print(f\"In a year you will be {some_input}\")"
   ]
  },
  {
   "cell_type": "code",
   "execution_count": 36,
   "metadata": {},
   "outputs": [
    {
     "name": "stdout",
     "output_type": "stream",
     "text": [
      "61\n"
     ]
    }
   ],
   "source": [
    "HOURLY_SALARY = 50\n",
    "\n",
    "from typing import Final\n",
    "\n",
    "NEW_HOURLY_SALARY:Final[int] = 60\n",
    "\n",
    "NEW_HOURLY_SALARY = 61\n",
    "\n",
    "print(NEW_HOURLY_SALARY)"
   ]
  },
  {
   "cell_type": "code",
   "execution_count": 1,
   "metadata": {},
   "outputs": [
    {
     "ename": "TypeError",
     "evalue": "'int' object does not support item assignment",
     "output_type": "error",
     "traceback": [
      "\u001b[1;31m---------------------------------------------------------------------------\u001b[0m",
      "\u001b[1;31mTypeError\u001b[0m                                 Traceback (most recent call last)",
      "\u001b[1;32mc:\\Users\\alvin.g\\Desktop\\aws\\restart-homework\\first_jupyter_notebook.ipynb Cell 16\u001b[0m line \u001b[0;36m2\n\u001b[0;32m      <a href='vscode-notebook-cell:/c%3A/Users/alvin.g/Desktop/aws/restart-homework/first_jupyter_notebook.ipynb#X21sZmlsZQ%3D%3D?line=0'>1</a>\u001b[0m my_tuples \u001b[39m=\u001b[39m (\u001b[39m3\u001b[39m)\n\u001b[1;32m----> <a href='vscode-notebook-cell:/c%3A/Users/alvin.g/Desktop/aws/restart-homework/first_jupyter_notebook.ipynb#X21sZmlsZQ%3D%3D?line=1'>2</a>\u001b[0m my_tuples[\u001b[39m0\u001b[39;49m] \u001b[39m=\u001b[39m \u001b[39m2\u001b[39m\n",
      "\u001b[1;31mTypeError\u001b[0m: 'int' object does not support item assignment"
     ]
    }
   ],
   "source": [
    "my_tuples = (3) #initialising factor\n",
    "my_tuples[0] = 2"
   ]
  },
  {
   "cell_type": "code",
   "execution_count": 8,
   "metadata": {},
   "outputs": [
    {
     "name": "stdout",
     "output_type": "stream",
     "text": [
      "{'bananas', 'apples', 'melons', 'mangoes', 'oranges'}\n",
      "{'apples'}\n",
      "{'bananas', 'mangoes'}\n",
      "{'melons', 'oranges'}\n"
     ]
    },
    {
     "data": {
      "text/plain": [
       "['apples', 'bananas', 'mangoes', 'melons', 'oranges']"
      ]
     },
     "execution_count": 8,
     "metadata": {},
     "output_type": "execute_result"
    }
   ],
   "source": [
    "my_set = {\"apples\", \"mangoes\", \"bananas\"}\n",
    "another_set = {\"apples\", \"oranges\", \"melons\"}\n",
    "union = my_set.union(another_set)\n",
    "print(union)\n",
    "intersection = my_set.intersection(another_set)\n",
    "print(intersection)\n",
    "only_mine = my_set.difference(another_set)\n",
    "print(only_mine)\n",
    "only_another_set = another_set.difference(my_set)\n",
    "print(only_another_set)\n",
    "sorted(list(union))"
   ]
  },
  {
   "cell_type": "code",
   "execution_count": 15,
   "metadata": {},
   "outputs": [
    {
     "name": "stdout",
     "output_type": "stream",
     "text": [
      "Alvin\n",
      "50\n",
      "51\n"
     ]
    }
   ],
   "source": [
    "my_info = {\"name\": \"Alvin\", \"age\": 50}\n",
    "name=my_info[\"name\"]\n",
    "age=my_info[\"age\"]\n",
    "print(name)\n",
    "print(age)\n",
    "my_info[\"age\"] = my_info[\"age\"] + 1\n",
    "print(my_info[\"age\"])"
   ]
  },
  {
   "cell_type": "code",
   "execution_count": 20,
   "metadata": {},
   "outputs": [
    {
     "name": "stdout",
     "output_type": "stream",
     "text": [
      "{'pet': 'dog', 'vet': 'Pet Care', 'my_dictionary': {...}}\n"
     ]
    }
   ],
   "source": [
    "my_dict = dict()\n",
    "my_dict[\"pet\"] = \"dog\"\n",
    "my_dict[\"vet\"] = \"Pet Care\"\n",
    "#my_dict[\"owners\"] = [\"Alvin\", \"Jacob\", \"Sean\"]\n",
    "my_dict[\"my_dictionary\"] = my_dict\n",
    "print(my_dict)"
   ]
  },
  {
   "cell_type": "code",
   "execution_count": null,
   "metadata": {},
   "outputs": [],
   "source": [
    "{'pet': 'dog', 'vet': 'Pet Care', 'my_dictionary': {...}}\n"
   ]
  },
  {
   "cell_type": "code",
   "execution_count": 2,
   "metadata": {},
   "outputs": [
    {
     "name": "stdout",
     "output_type": "stream",
     "text": [
      "Hello welcome to Re/start\n",
      "Have a nice day!\n"
     ]
    }
   ],
   "source": [
    "f = open (\"text.txt\", \"r\")\n",
    "print(f.read())\n"
   ]
  },
  {
   "cell_type": "code",
   "execution_count": 3,
   "metadata": {},
   "outputs": [
    {
     "name": "stdout",
     "output_type": "stream",
     "text": [
      "Hello welcome to Re/start\n",
      "\n"
     ]
    }
   ],
   "source": [
    "f = open (\"text.txt\", \"r\")\n",
    "print(f.readline())\n"
   ]
  },
  {
   "cell_type": "code",
   "execution_count": 4,
   "metadata": {},
   "outputs": [
    {
     "name": "stdout",
     "output_type": "stream",
     "text": [
      "Hello welcome to Re/start\n",
      "\n",
      "Have a nice day!\n"
     ]
    }
   ],
   "source": [
    "f = open (\"text.txt\", \"r\")\n",
    "print(f.readline())\n",
    "print(f.readline())"
   ]
  },
  {
   "cell_type": "code",
   "execution_count": 12,
   "metadata": {},
   "outputs": [
    {
     "name": "stdout",
     "output_type": "stream",
     "text": [
      "HELLO WELCOME TO RE/START\n",
      "\n",
      "HAVE A NICE DAY!\n",
      "\n",
      "GOOD MORNING\n",
      "\n",
      "HOW ARE YOU?\n",
      "finish\n"
     ]
    }
   ],
   "source": [
    "f = open (\"text.txt\", \"r\")\n",
    "for line in f:\n",
    "    print(line.upper())\n",
    "print(\"finish\")"
   ]
  },
  {
   "cell_type": "code",
   "execution_count": 15,
   "metadata": {},
   "outputs": [
    {
     "name": "stdout",
     "output_type": "stream",
     "text": [
      "I am not sure what you are\n"
     ]
    }
   ],
   "source": [
    "favourite_animal = input(\"what is your favourite animal?\")\n",
    "if favourite_animal == \"dog\":\n",
    "    print(\"You are a dog person\")\n",
    "elif favourite_animal == \"cat\":\n",
    "    print(\"You are a cat person\")\n",
    "else:\n",
    "    print(\"I am not sure what you are\")"
   ]
  },
  {
   "cell_type": "code",
   "execution_count": 1,
   "metadata": {},
   "outputs": [
    {
     "name": "stdout",
     "output_type": "stream",
     "text": [
      "girafee\n",
      "\n",
      "\n"
     ]
    },
    {
     "ename": "KeyboardInterrupt",
     "evalue": "Interrupted by user",
     "output_type": "error",
     "traceback": [
      "\u001b[1;31m---------------------------------------------------------------------------\u001b[0m",
      "\u001b[1;31mKeyboardInterrupt\u001b[0m                         Traceback (most recent call last)",
      "\u001b[1;32mc:\\Users\\alvin.g\\Desktop\\aws\\restart-homework\\first_jupyter_notebook.ipynb Cell 26\u001b[0m line \u001b[0;36m3\n\u001b[0;32m      <a href='vscode-notebook-cell:/c%3A/Users/alvin.g/Desktop/aws/restart-homework/first_jupyter_notebook.ipynb#X34sZmlsZQ%3D%3D?line=0'>1</a>\u001b[0m favourite_animal \u001b[39m=\u001b[39m \u001b[39m\"\u001b[39m\u001b[39m\"\u001b[39m\n\u001b[0;32m      <a href='vscode-notebook-cell:/c%3A/Users/alvin.g/Desktop/aws/restart-homework/first_jupyter_notebook.ipynb#X34sZmlsZQ%3D%3D?line=1'>2</a>\u001b[0m \u001b[39mwhile\u001b[39;00m favourite_animal \u001b[39m!=\u001b[39m \u001b[39m\"\u001b[39m\u001b[39mdog\u001b[39m\u001b[39m\"\u001b[39m \u001b[39mand\u001b[39;00m favourite_animal \u001b[39m!=\u001b[39m \u001b[39m\"\u001b[39m\u001b[39mcat\u001b[39m\u001b[39m\"\u001b[39m:\n\u001b[1;32m----> <a href='vscode-notebook-cell:/c%3A/Users/alvin.g/Desktop/aws/restart-homework/first_jupyter_notebook.ipynb#X34sZmlsZQ%3D%3D?line=2'>3</a>\u001b[0m     favourite_animal \u001b[39m=\u001b[39m \u001b[39minput\u001b[39;49m(\u001b[39m\"\u001b[39;49m\u001b[39mAre you a dog or a cat person?\u001b[39;49m\u001b[39m\"\u001b[39;49m)\n\u001b[0;32m      <a href='vscode-notebook-cell:/c%3A/Users/alvin.g/Desktop/aws/restart-homework/first_jupyter_notebook.ipynb#X34sZmlsZQ%3D%3D?line=3'>4</a>\u001b[0m     \u001b[39mprint\u001b[39m(favourite_animal)\n",
      "File \u001b[1;32mc:\\Users\\alvin.g\\AppData\\Local\\Programs\\Python\\Python312\\Lib\\site-packages\\ipykernel\\kernelbase.py:1251\u001b[0m, in \u001b[0;36mKernel.raw_input\u001b[1;34m(self, prompt)\u001b[0m\n\u001b[0;32m   1249\u001b[0m     msg \u001b[39m=\u001b[39m \u001b[39m\"\u001b[39m\u001b[39mraw_input was called, but this frontend does not support input requests.\u001b[39m\u001b[39m\"\u001b[39m\n\u001b[0;32m   1250\u001b[0m     \u001b[39mraise\u001b[39;00m StdinNotImplementedError(msg)\n\u001b[1;32m-> 1251\u001b[0m \u001b[39mreturn\u001b[39;00m \u001b[39mself\u001b[39;49m\u001b[39m.\u001b[39;49m_input_request(\n\u001b[0;32m   1252\u001b[0m     \u001b[39mstr\u001b[39;49m(prompt),\n\u001b[0;32m   1253\u001b[0m     \u001b[39mself\u001b[39;49m\u001b[39m.\u001b[39;49m_parent_ident[\u001b[39m\"\u001b[39;49m\u001b[39mshell\u001b[39;49m\u001b[39m\"\u001b[39;49m],\n\u001b[0;32m   1254\u001b[0m     \u001b[39mself\u001b[39;49m\u001b[39m.\u001b[39;49mget_parent(\u001b[39m\"\u001b[39;49m\u001b[39mshell\u001b[39;49m\u001b[39m\"\u001b[39;49m),\n\u001b[0;32m   1255\u001b[0m     password\u001b[39m=\u001b[39;49m\u001b[39mFalse\u001b[39;49;00m,\n\u001b[0;32m   1256\u001b[0m )\n",
      "File \u001b[1;32mc:\\Users\\alvin.g\\AppData\\Local\\Programs\\Python\\Python312\\Lib\\site-packages\\ipykernel\\kernelbase.py:1295\u001b[0m, in \u001b[0;36mKernel._input_request\u001b[1;34m(self, prompt, ident, parent, password)\u001b[0m\n\u001b[0;32m   1292\u001b[0m \u001b[39mexcept\u001b[39;00m \u001b[39mKeyboardInterrupt\u001b[39;00m:\n\u001b[0;32m   1293\u001b[0m     \u001b[39m# re-raise KeyboardInterrupt, to truncate traceback\u001b[39;00m\n\u001b[0;32m   1294\u001b[0m     msg \u001b[39m=\u001b[39m \u001b[39m\"\u001b[39m\u001b[39mInterrupted by user\u001b[39m\u001b[39m\"\u001b[39m\n\u001b[1;32m-> 1295\u001b[0m     \u001b[39mraise\u001b[39;00m \u001b[39mKeyboardInterrupt\u001b[39;00m(msg) \u001b[39mfrom\u001b[39;00m \u001b[39mNone\u001b[39;00m\n\u001b[0;32m   1296\u001b[0m \u001b[39mexcept\u001b[39;00m \u001b[39mException\u001b[39;00m:\n\u001b[0;32m   1297\u001b[0m     \u001b[39mself\u001b[39m\u001b[39m.\u001b[39mlog\u001b[39m.\u001b[39mwarning(\u001b[39m\"\u001b[39m\u001b[39mInvalid Message:\u001b[39m\u001b[39m\"\u001b[39m, exc_info\u001b[39m=\u001b[39m\u001b[39mTrue\u001b[39;00m)\n",
      "\u001b[1;31mKeyboardInterrupt\u001b[0m: Interrupted by user"
     ]
    }
   ],
   "source": [
    "favourite_animal = \"\"\n",
    "while favourite_animal != \"dog\" and favourite_animal != \"cat\":\n",
    "    favourite_animal = input(\"Are you a dog or a cat person?\")\n",
    "    print(favourite_animal)"
   ]
  }
 ],
 "metadata": {
  "kernelspec": {
   "display_name": "Python 3",
   "language": "python",
   "name": "python3"
  },
  "language_info": {
   "codemirror_mode": {
    "name": "ipython",
    "version": 3
   },
   "file_extension": ".py",
   "mimetype": "text/x-python",
   "name": "python",
   "nbconvert_exporter": "python",
   "pygments_lexer": "ipython3",
   "version": "3.12.0"
  }
 },
 "nbformat": 4,
 "nbformat_minor": 2
}
