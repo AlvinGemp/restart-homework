{
 "cells": [
  {
   "cell_type": "code",
   "execution_count": 1,
   "metadata": {},
   "outputs": [
    {
     "name": "stdout",
     "output_type": "stream",
     "text": [
      "The entered number is: 3\n"
     ]
    }
   ],
   "source": [
    "board_size = int(input(\"Enter an integer: \"))\n",
    "print(\"The entered number is:\", board_size)\n",
    "\n",
    "\n"
   ]
  },
  {
   "cell_type": "code",
   "execution_count": 17,
   "metadata": {},
   "outputs": [
    {
     "name": "stdout",
     "output_type": "stream",
     "text": [
      "The board size is: 5\n",
      "          |           |           \n",
      "\n",
      "          |           |           \n",
      "\n",
      "          |           |           \n",
      "\n",
      "          |           |           \n",
      "\n",
      "          |           |           \n",
      "\n",
      "- - - - - - - - - - - - - - - - - \n",
      "\n",
      "          |           |           \n",
      "\n",
      "          |           |           \n",
      "\n",
      "          |           |           \n",
      "\n",
      "          |           |           \n",
      "\n",
      "          |           |           \n",
      "\n",
      "- - - - - - - - - - - - - - - - - \n",
      "\n",
      "          |           |           \n",
      "\n",
      "          |           |           \n",
      "\n",
      "          |           |           \n",
      "\n",
      "          |           |           \n",
      "\n",
      "          |           |           \n",
      "\n"
     ]
    }
   ],
   "source": [
    "board_size = int(input(\"Enter an integer: \"))\n",
    "print(\"The board size is:\", board_size)\n",
    "\n",
    "dots = 3 * board_size + 2\n",
    "for row in range(dots):\n",
    "    for col in range(dots):\n",
    "        if (row == board_size or row == 2 * board_size+1):\n",
    "            print(\"-\", end=\" \")\n",
    "        elif (col == board_size or col == 2 * board_size+1):\n",
    "            print(\"|\", end=\" \")\n",
    "        else:\n",
    "            print(\" \", end=\" \")\n",
    "    print(\"\\n\")\n"
   ]
  },
  {
   "cell_type": "code",
   "execution_count": 3,
   "metadata": {},
   "outputs": [
    {
     "name": "stdout",
     "output_type": "stream",
     "text": [
      "[0, 0, 0, 0, 0]\n",
      "[0, 0, 0, 0, 0]\n",
      "[0, 0, 0, 0, 0]\n",
      "[0, 0, 0, 0, 0]\n",
      "[0, 0, 0, 0, 0]\n"
     ]
    }
   ],
   "source": [
    "rows, cols = (5, 5)\n",
    "arr = [[0*cols]*cols]*rows\n",
    "arr[0][0] = 0\n",
    "for row in arr:\n",
    "    print(row)"
   ]
  }
 ],
 "metadata": {
  "kernelspec": {
   "display_name": "Python 3",
   "language": "python",
   "name": "python3"
  },
  "language_info": {
   "codemirror_mode": {
    "name": "ipython",
    "version": 3
   },
   "file_extension": ".py",
   "mimetype": "text/x-python",
   "name": "python",
   "nbconvert_exporter": "python",
   "pygments_lexer": "ipython3",
   "version": "3.12.0"
  }
 },
 "nbformat": 4,
 "nbformat_minor": 2
}
